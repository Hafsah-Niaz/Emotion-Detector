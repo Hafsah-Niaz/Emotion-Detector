{
 "cells": [
  {
   "cell_type": "code",
   "execution_count": null,
   "id": "f932e5eb-bdac-4799-af13-1da5342c4682",
   "metadata": {},
   "outputs": [],
   "source": [
    "import tensorflow as tf\n",
    "import cv2\n",
    "import os\n",
    "import matplotlib.pyplot as plt\n",
    "import numpy as np"
   ]
  },
  {
   "cell_type": "code",
   "execution_count": null,
   "id": "3e2dc130-1992-45b7-827e-7ce3252e34c8",
   "metadata": {},
   "outputs": [],
   "source": [
    "img_array = cv2.imread(r\"C:\\Users\\Admin\\Desktop\\Training\\0\\Training_31270134.jpg\")\n"
   ]
  },
  {
   "cell_type": "code",
   "execution_count": null,
   "id": "4868b892-5707-4e91-bffc-1aafd416e784",
   "metadata": {},
   "outputs": [],
   "source": [
    "img_array.shape"
   ]
  },
  {
   "cell_type": "code",
   "execution_count": null,
   "id": "cd623f91-3be4-4a50-9f8e-27c05dafd0e1",
   "metadata": {},
   "outputs": [],
   "source": [
    "plt.imshow(img_array)"
   ]
  },
  {
   "cell_type": "code",
   "execution_count": null,
   "id": "eb33f49d-63de-467a-8aa0-07dfab2ecc35",
   "metadata": {},
   "outputs": [],
   "source": [
    "Datadirectory=r\"C:\\Users\\Admin\\Desktop\\Training\""
   ]
  },
  {
   "cell_type": "code",
   "execution_count": null,
   "id": "91495f8d-4ad7-4300-80c5-dc4e873062bc",
   "metadata": {},
   "outputs": [],
   "source": [
    "Classes=[\"0\",\"1\",\"2\",\"3\",\"4\",\"5\",\"6\"]"
   ]
  },
  {
   "cell_type": "code",
   "execution_count": null,
   "id": "aa3dd481-fcda-40ef-a302-c32d180da690",
   "metadata": {},
   "outputs": [],
   "source": [
    "for category in Classes:\n",
    "    path=os.path.join(Datadirectory,category)\n",
    "    for img in os.listdir(path):\n",
    "        img_array=cv2.imread(os.path.join(path,img))\n",
    "        plt.imshow(cv2.cvtColor(img_array,cv2.COLOR_BGR2RGB))\n",
    "        plt.show()\n",
    "        break\n",
    "    break"
   ]
  },
  {
   "cell_type": "code",
   "execution_count": null,
   "id": "485adcbb-72be-47a3-b4eb-d15e7ac8e8c1",
   "metadata": {},
   "outputs": [],
   "source": [
    "img_size=64\n",
    "new_array=cv2.resize(img_array,(img_size,img_size))\n",
    "plt.imshow(cv2.cvtColor(new_array,cv2.COLOR_BGR2RGB))\n",
    "plt.show()"
   ]
  },
  {
   "cell_type": "code",
   "execution_count": null,
   "id": "26e8c0ab-e275-4af5-9889-4a0a3bfa4768",
   "metadata": {},
   "outputs": [],
   "source": [
    "new_array.shape"
   ]
  },
  {
   "cell_type": "code",
   "execution_count": null,
   "id": "6cbf2275-553d-4f4a-b9d6-07210b143ec5",
   "metadata": {},
   "outputs": [],
   "source": [
    "training_Data = []\n",
    "\n",
    "def create_training_Data():\n",
    "    for category in Classes:\n",
    "        path = os.path.join(Datadirectory, category)\n",
    "        class_num = Classes.index(category)\n",
    "        for img in os.listdir(path):\n",
    "            try:\n",
    "                img_array = cv2.imread(os.path.join(path, img))\n",
    "                if img_array is None:\n",
    "                    print(f\"Failed to load image: {img}\")\n",
    "                    continue  # Skip if image failed to load\n",
    "                new_array = cv2.resize(img_array, (img_size, img_size))\n",
    "                print(f\"Resized image shape: {new_array.shape}\")  # Print shape of resized image\n",
    "                training_Data.append([new_array, class_num])\n",
    "            except Exception as e:\n",
    "                print(f\"Error processing image {img}: {e}\")\n",
    "\n",
    "\n"
   ]
  },
  {
   "cell_type": "code",
   "execution_count": null,
   "id": "9690fc26-e101-4206-b35e-0a641ff709ce",
   "metadata": {
    "scrolled": true
   },
   "outputs": [],
   "source": [
    "create_training_Data()\n"
   ]
  },
  {
   "cell_type": "code",
   "execution_count": null,
   "id": "9a843c41-c61e-413d-8dc1-8ebc76e13bc1",
   "metadata": {},
   "outputs": [],
   "source": [
    "print(len(training_Data))"
   ]
  },
  {
   "cell_type": "code",
   "execution_count": null,
   "id": "fc1d3f13-ec06-485e-b249-3d059a561edc",
   "metadata": {},
   "outputs": [],
   "source": [
    "import random\n",
    "random.shuffle(training_Data)"
   ]
  },
  {
   "cell_type": "code",
   "execution_count": null,
   "id": "fda28fa6-5ec1-4e18-838f-e92024e02160",
   "metadata": {},
   "outputs": [],
   "source": [
    "x=[]\n",
    "y=[]\n",
    "for features,label in training_Data:\n",
    "    x.append(features)\n",
    "    y.append(label)\n",
    "x=np.array(x).reshape(-1,img_size,img_size,3)"
   ]
  },
  {
   "cell_type": "code",
   "execution_count": null,
   "id": "6c03867f-b896-4b04-96e7-4023e5b98efa",
   "metadata": {},
   "outputs": [],
   "source": [
    "x.shape"
   ]
  },
  {
   "cell_type": "code",
   "execution_count": null,
   "id": "56ffb505-c718-47af-b88e-154448a3dcb7",
   "metadata": {},
   "outputs": [],
   "source": [
    "x = x.astype('float32') / 255.0"
   ]
  },
  {
   "cell_type": "code",
   "execution_count": null,
   "id": "8b1ef706-62a8-41b0-a0c8-ce6e6ac4119c",
   "metadata": {},
   "outputs": [],
   "source": [
    "type(y)"
   ]
  },
  {
   "cell_type": "code",
   "execution_count": null,
   "id": "f6c702ba-0f3d-4d63-817a-7d62814e74a2",
   "metadata": {},
   "outputs": [],
   "source": [
    "y=np.array(y)"
   ]
  },
  {
   "cell_type": "code",
   "execution_count": null,
   "id": "7ab190da-7b95-43a5-96be-cbaebfddee16",
   "metadata": {},
   "outputs": [],
   "source": [
    "y.shape"
   ]
  },
  {
   "cell_type": "code",
   "execution_count": null,
   "id": "903550f2-584b-4e60-8647-f06c1f1a50aa",
   "metadata": {},
   "outputs": [],
   "source": [
    "import tensorflow as tf\n",
    "from tensorflow import keras\n",
    "from tensorflow.keras import layers\n",
    "from keras.layers import Input"
   ]
  },
  {
   "cell_type": "code",
   "execution_count": null,
   "id": "4c991524-9efc-40ca-a0cc-93f54e22f310",
   "metadata": {},
   "outputs": [],
   "source": [
    "model=tf.keras.applications.MobileNetV2()"
   ]
  },
  {
   "cell_type": "code",
   "execution_count": null,
   "id": "8badf63b-739f-4106-ab1f-d2c7bb679a73",
   "metadata": {},
   "outputs": [],
   "source": [
    "model.summary()"
   ]
  },
  {
   "cell_type": "code",
   "execution_count": null,
   "id": "1f20044b-6989-4c0b-a369-d3b32514564a",
   "metadata": {},
   "outputs": [],
   "source": [
    "base_input=model.layers[0].input"
   ]
  },
  {
   "cell_type": "code",
   "execution_count": null,
   "id": "549c5188-b697-4099-95bd-cfae53faa95b",
   "metadata": {},
   "outputs": [],
   "source": [
    "base_output=model.layers[-2].output"
   ]
  },
  {
   "cell_type": "code",
   "execution_count": null,
   "id": "fc0fd15e-379d-419f-9f26-6c2652692181",
   "metadata": {},
   "outputs": [],
   "source": [
    "base_output"
   ]
  },
  {
   "cell_type": "code",
   "execution_count": null,
   "id": "33b58c34-55ae-44da-ba38-f061c1a6dd98",
   "metadata": {},
   "outputs": [],
   "source": [
    "final_output=layers.Dense(128)(base_output)\n",
    "final_output=layers.Activation('relu')(final_output)\n",
    "final_output=layers.Dense(64)(final_output)\n",
    "final_output=layers.Activation('relu')(final_output)\n",
    "final_output=layers.Dense(7,activation='softmax')(final_output)"
   ]
  },
  {
   "cell_type": "code",
   "execution_count": null,
   "id": "618452a3-6fad-48f3-89dd-28ef6d3d4001",
   "metadata": {},
   "outputs": [],
   "source": [
    "final_output"
   ]
  },
  {
   "cell_type": "code",
   "execution_count": null,
   "id": "09554380-d33f-4de2-b6a5-a897911e7651",
   "metadata": {},
   "outputs": [],
   "source": [
    "from keras.applications import VGG16\n",
    "\n",
    "base_model = VGG16(weights='imagenet', include_top=False, input_shape=(img_size, img_size, 3))\n",
    "base_input = base_model.input  # This should not be empty"
   ]
  },
  {
   "cell_type": "code",
   "execution_count": null,
   "id": "ff28a9af-c574-4113-aa13-cb86c44d96cf",
   "metadata": {},
   "outputs": [],
   "source": [
    "from keras.layers import Flatten, Dense\n",
    "\n",
    "x = Flatten()(base_input)  # Assuming base_input is valid\n",
    "final_output = Dense(len(Classes), activation='softmax')(x)"
   ]
  },
  {
   "cell_type": "code",
   "execution_count": null,
   "id": "8422f312-2ca1-42c4-a29d-f035529a7c07",
   "metadata": {},
   "outputs": [],
   "source": [
    "new_model=keras.Model(inputs=base_input,outputs=final_output)\n"
   ]
  },
  {
   "cell_type": "code",
   "execution_count": null,
   "id": "36dd0d86-df15-4fa7-9a00-dd28a7451a7d",
   "metadata": {},
   "outputs": [],
   "source": [
    "new_model.summary()"
   ]
  },
  {
   "cell_type": "code",
   "execution_count": null,
   "id": "f4c11bb6-a67c-4208-8107-ccd1a0a84a06",
   "metadata": {},
   "outputs": [],
   "source": [
    "new_model.compile(loss=\"sparse_categorical_crossentropy\",optimizer=\"adam\",metrics=[\"accuracy\"])"
   ]
  },
  {
   "cell_type": "code",
   "execution_count": null,
   "id": "d1a79f1e-a604-4712-b797-446f4a6bc18c",
   "metadata": {},
   "outputs": [],
   "source": [
    "new_model.summary()"
   ]
  },
  {
   "cell_type": "code",
   "execution_count": null,
   "id": "4e75d260-2215-4559-b9a2-7bdad6318669",
   "metadata": {},
   "outputs": [],
   "source": [
    "# Assuming training_Data is populated correctly\n",
    "x = np.array([data[0] for data in training_Data]).astype('float32') / 255.0  # Normalize\n",
    "y = np.array([data[1] for data in training_Data])\n",
    "\n",
    "# Check for None values\n",
    "print(\"x is None:\", x is None)\n",
    "print(\"y is None:\", y is None)\n",
    "\n",
    "# Check shapes\n",
    "print(\"Input shape:\", x.shape)\n",
    "print(\"Labels shape:\", y.shape)\n",
    "\n",
    "# Assert lengths\n",
    "assert len(x) == len(y), \"The number of inputs and labels must match.\"\n",
    "\n",
    "# Fit the model\n",
    "from keras.callbacks import EarlyStopping\n",
    "\n",
    "early_stopping = EarlyStopping(monitor='val_loss', patience=3, restore_best_weights=True)\n",
    "\n",
    "new_model.fit(x, y, epochs=25, validation_data=(x,y), callbacks=[early_stopping])\n",
    "\n",
    "\n"
   ]
  },
  {
   "cell_type": "code",
   "execution_count": null,
   "id": "ef513b85-9014-431d-96c4-7b53e9a5d68b",
   "metadata": {},
   "outputs": [],
   "source": [
    "new_model.save('my_model.keras')"
   ]
  },
  {
   "cell_type": "code",
   "execution_count": null,
   "id": "74f45dd3-1baf-4a97-a680-dff4238a7ce0",
   "metadata": {
    "scrolled": true
   },
   "outputs": [],
   "source": [
    "new_model=tf.keras.models.load_model('my_model.keras')"
   ]
  },
  {
   "cell_type": "code",
   "execution_count": null,
   "id": "b1896ff4-92b5-48b2-afd5-0a230b113d43",
   "metadata": {},
   "outputs": [],
   "source": [
    "frame=cv2.imread(r\"C:\\Users\\Admin\\Desktop\\depositphotos_39337915-stock-photo-angry-man.jpg\")"
   ]
  },
  {
   "cell_type": "code",
   "execution_count": null,
   "id": "b6304f60-469b-4802-9a14-f0f244f2a7c0",
   "metadata": {},
   "outputs": [],
   "source": [
    "frame.shape"
   ]
  },
  {
   "cell_type": "code",
   "execution_count": null,
   "id": "bfae7766-adf0-49a3-8d44-0045fb2fbb95",
   "metadata": {},
   "outputs": [],
   "source": [
    "plt.imshow(cv2.cvtColor(frame,cv2.COLOR_BGR2RGB))"
   ]
  },
  {
   "cell_type": "code",
   "execution_count": null,
   "id": "f22c96c0-0a80-4fe2-b256-c9a08e069f30",
   "metadata": {},
   "outputs": [],
   "source": [
    "import cv2\n",
    "\n",
    "# Load the pre-trained face detector (ensure you provide the correct path to the XML file)\n",
    "faceCascade = cv2.CascadeClassifier(cv2.data.haarcascades + 'haarcascade_frontalface_default.xml')\n",
    "\n",
    "# Convert the image to grayscale if you haven't already\n",
    "gray = cv2.cvtColor(frame, cv2.COLOR_BGR2GRAY)\n",
    "\n",
    "# Detect faces\n",
    "faces = faceCascade.detectMultiScale(gray, 1.1, 4)\n",
    "\n",
    "# Loop through detected faces and draw rectangles or process them\n",
    "for (x, y, w, h) in faces:\n",
    "    cv2.rectangle(frame, (x, y), (x+w, y+h), (255, 0, 0), 2)\n"
   ]
  },
  {
   "cell_type": "code",
   "execution_count": null,
   "id": "1524f1ec-470f-43ea-8121-4f7f85fc9775",
   "metadata": {},
   "outputs": [],
   "source": [
    "gray.shape"
   ]
  },
  {
   "cell_type": "code",
   "execution_count": null,
   "id": "102eae75-a6bb-4bc3-848f-1640b33aa46e",
   "metadata": {},
   "outputs": [],
   "source": [
    "faces = faceCascade.detectMultiScale(gray, 1.1, 4)\n",
    "for (x, y, w, h) in faces:\n",
    "    roi_gray = gray[y:y+h, x:x+w]\n",
    "    roi_color = frame[y:y+h, x:x+w]\n",
    "    \n",
    "    # Draw a rectangle around the face\n",
    "    cv2.rectangle(frame, (x, y), (x+w, y+h), (255, 0, 0), 2)\n",
    "    \n",
    "    # Optional: Detect smaller faces within the region of interest (roi_gray)\n",
    "    facess = faceCascade.detectMultiScale(roi_gray)\n",
    "    \n",
    "    if len(facess) == 0:\n",
    "        print(\"Face not detected\")\n",
    "    else:\n",
    "        for (ex, ey, ew, eh) in facess:\n",
    "            # Extract the face region of interest (ROI) from the color image\n",
    "            face_roi = roi_color[ey:ey+eh, ex:ex+ew]\n",
    "            # You can now process face_roi (e.g., save it, feed it into a model, etc.)\n"
   ]
  },
  {
   "cell_type": "code",
   "execution_count": null,
   "id": "08906b0d-1e30-4734-94c7-9eeb28bcf5cb",
   "metadata": {},
   "outputs": [],
   "source": [
    "plt.imshow(cv2.cvtColor(frame,cv2.COLOR_BGR2RGB))"
   ]
  },
  {
   "cell_type": "code",
   "execution_count": null,
   "id": "55cc81f7-e263-41ae-9f2f-6795a7aebebf",
   "metadata": {},
   "outputs": [],
   "source": [
    "plt.imshow(cv2.cvtColor(face_roi,cv2.COLOR_BGR2RGB))"
   ]
  },
  {
   "cell_type": "code",
   "execution_count": null,
   "id": "9bbc2928-2002-4b7d-b0eb-12450383829b",
   "metadata": {},
   "outputs": [],
   "source": [
    " final_image =cv2. resize(face_roi, (64,64))\n",
    "final_image = np.expand_dims (final_image, axis =0)\n",
    "final_image=final_image/255.0\n"
   ]
  },
  {
   "cell_type": "code",
   "execution_count": null,
   "id": "c77220f9-255e-44bb-9df1-7d433bd164fa",
   "metadata": {},
   "outputs": [],
   "source": [
    "Predictions=new_model.predict(final_image)"
   ]
  },
  {
   "cell_type": "code",
   "execution_count": null,
   "id": "0cf2d613-2873-4749-ac44-c48b85703072",
   "metadata": {},
   "outputs": [],
   "source": [
    "Predictions[0]"
   ]
  },
  {
   "cell_type": "code",
   "execution_count": null,
   "id": "00ae77f2-1c74-4b52-b660-b3b0daad8bee",
   "metadata": {},
   "outputs": [],
   "source": [
    "np.argmax(Predictions)"
   ]
  },
  {
   "cell_type": "code",
   "execution_count": null,
   "id": "e25ba70f-96ed-4731-9ef9-98e36d331c4c",
   "metadata": {},
   "outputs": [],
   "source": [
    "import cv2\n",
    "import numpy as np\n",
    "from tensorflow.keras.models import load_model\n",
    "\n",
    "# Load your pre-trained emotion recognition model\n",
    "new_model = load_model(r\"C:\\Users\\Admin\\my_model.keras\")  # Replace with your actual model path\n",
    "\n",
    "path = \"haarcascade_frontalface_default.xml\"\n",
    "font_scale = 1.5\n",
    "font = cv2.FONT_HERSHEY_PLAIN\n",
    "\n",
    "# Set the rectangle background to white\n",
    "rectangle_bgr = (255, 255, 255)\n",
    "\n",
    "# Make a black image\n",
    "img = np.zeros((500, 500))\n",
    "\n",
    "# Set some text\n",
    "text = \"Some text in a box!\"\n",
    "\n",
    "# Get the width and height of the text box\n",
    "(text_width, text_height) = cv2.getTextSize(text, font, fontScale=font_scale, thickness=1)[0]\n",
    "\n",
    "# Set the text start position\n",
    "text_offset_x = 10\n",
    "text_offset_y = img.shape[0] - 25\n",
    "\n",
    "# Make the coords of the box with a small padding of two pixels\n",
    "box_coords = ((text_offset_x, text_offset_y), (text_offset_x + text_width + 2, text_offset_y - text_height - 2))\n",
    "cv2.rectangle(img, box_coords[0], box_coords[1], rectangle_bgr, cv2.FILLED)\n",
    "\n",
    "# Put text on image\n",
    "cv2.putText(img, text, (text_offset_x, text_offset_y), font, fontScale=font_scale, color=(0, 0, 0), thickness=1)\n",
    "\n",
    "cap = cv2.VideoCapture(1)\n",
    "# Check if the webcam is opened correctly\n",
    "if not cap.isOpened():\n",
    "    cap = cv2.VideoCapture(0)\n",
    "if not cap.isOpened():\n",
    "    raise Exception(\"Cannot open webcam\")\n",
    "\n",
    "while True:\n",
    "    ret, frame = cap.read()\n",
    "\n",
    "    faceCascade = cv2.CascadeClassifier(cv2.data.haarcascades + 'haarcascade_frontalface_default.xml')\n",
    "    gray = cv2.cvtColor(frame, cv2.COLOR_BGR2GRAY)\n",
    "\n",
    "    faces = faceCascade.detectMultiScale(gray, 1.1, 4)\n",
    "    for x, y, w, h in faces:\n",
    "        roi_gray = gray[y:y+h, x:x+w]\n",
    "        roi_color = frame[y:y+h, x:x+w]\n",
    "        cv2.rectangle(frame, (x, y), (x+w, y+h), (255, 0, 0), 2)\n",
    "        facess = faceCascade.detectMultiScale(roi_gray)\n",
    "\n",
    "        if len(facess) == 0:\n",
    "            print(\"Face not detected\")\n",
    "        else:\n",
    "            for (ex, ey, ew, eh) in facess:\n",
    "                face_roi = roi_color[ey:ey+eh, ex:ex+ew]\n",
    "\n",
    "        # Cropping the face\n",
    "        final_image = cv2.resize(face_roi, (64, 64))\n",
    "        final_image = np.expand_dims(final_image, axis=0)\n",
    "        final_image = final_image / 255.0\n",
    "\n",
    "        # Assuming you have already loaded `new_model`\n",
    "        Predictions = new_model.predict(final_image)\n",
    "\n",
    "        font = cv2.FONT_HERSHEY_SIMPLEX\n",
    "        if np.argmax(Predictions) == 0:\n",
    "            status = \"Angry\"\n",
    "        elif np.argmax(Predictions) == 1:\n",
    "            status = \"Disgust\"\n",
    "        elif np.argmax(Predictions) == 2:\n",
    "            status = \"Fear\" \n",
    "        elif np.argmax(Predictions) == 3:\n",
    "            status = \"Happy\"\n",
    "        elif np.argmax(Predictions) == 4:\n",
    "            status = \"Surprise\"\n",
    "        elif np.argmax(Predictions) == 5:\n",
    "            status = \"Sad\"\n",
    "        else:\n",
    "            status = \"Neutral\"\n",
    "\n",
    "        x1, y1, w1, h1 = 0, 0, 175, 75\n",
    "        cv2.rectangle(frame, (x1, y1), (x1 + w1, y1 + h1), (0, 0, 0), -1)\n",
    "        cv2.putText(frame, status, (x1 + int(w1 / 10), y1 + int(h1 / 2)), cv2.FONT_HERSHEY_SIMPLEX, 0.7, (0, 0, 255), 2)\n",
    "        cv2.putText(frame, status, (100, 150), font, 3, (0, 0, 255), 2, cv2.LINE_4)\n",
    "        cv2.rectangle(frame, (x, y), (x + w, y + h), (0, 0, 255))\n",
    "\n",
    "    cv2.imshow('Face Emotion Recognition', frame)\n",
    "    if cv2.waitKey(2) & 0xFF == ord('q'):\n",
    "        break\n",
    "\n",
    "cap.release()\n",
    "cv2.destroyAllWindows()\n",
    "\n"
   ]
  }
 ],
 "metadata": {
  "kernelspec": {
   "display_name": "Python 3 (ipykernel)",
   "language": "python",
   "name": "python3"
  },
  "language_info": {
   "codemirror_mode": {
    "name": "ipython",
    "version": 3
   },
   "file_extension": ".py",
   "mimetype": "text/x-python",
   "name": "python",
   "nbconvert_exporter": "python",
   "pygments_lexer": "ipython3",
   "version": "3.12.4"
  }
 },
 "nbformat": 4,
 "nbformat_minor": 5
}
